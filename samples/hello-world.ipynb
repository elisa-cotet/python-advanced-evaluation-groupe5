{
 "cells": [
  {
   "cell_type": "markdown",
   "id": "a9541506",
   "metadata": {},
   "source": [
    "Hello world!\n",
    "============\n",
    "Print `Hello world!`:"
   ]
  },
  {
   "cell_type": "code",
   "execution_count": null,
   "id": "e26a7dae",
   "metadata": {},
   "outputs": [],
   "source": [
    "print(\"Hello world!\")"
   ]
  },
  {
   "cell_type": "markdown",
   "id": "a23ab5ac",
   "metadata": {},
   "source": [
    "Goodbye! 👋"
   ]
  }
 ],
 "metadata": {
  "kernelspec": {
   "display_name": "Python 3 (ipykernel)",
   "language": "python",
   "name": "python3"
  },
  "language_info": {
   "codemirror_mode": {
    "name": "ipython",
    "version": 3
   },
   "file_extension": ".py",
   "mimetype": "text/x-python",
   "name": "python",
   "nbconvert_exporter": "python",
   "pygments_lexer": "ipython3",
   "version": "3.9.7"
  }
 },
 "nbformat": 4,
 "nbformat_minor": 5
}
