{
 "cells": [
  {
   "cell_type": "code",
   "execution_count": 1,
   "id": "ec36f5db",
   "metadata": {},
   "outputs": [
    {
     "name": "stdout",
     "output_type": "stream",
     "text": [
      "Waf je suis Medor\n",
      "Miaou je suis Latie\n",
      "Bonjour je suis Kevin\n"
     ]
    }
   ],
   "source": [
    "class Dog:\n",
    "    def __init__(self, name):\n",
    "        self.name = name\n",
    "        \n",
    "    def say_hello(self):\n",
    "        print(f\"Waf je suis {self.name}\")\n",
    "        \n",
    "class Cat:\n",
    "    def __init__(self,name):\n",
    "        self.name = name\n",
    "    \n",
    "    def say_hello(self):\n",
    "        print(f\"Miaou je suis {self.name}\")\n",
    "\n",
    "class Student:\n",
    "    def __init__(self,name):\n",
    "        self.name = name\n",
    "    \n",
    "    def say_hello(self):\n",
    "        print(f\"Bonjour je suis {self.name}\")\n",
    "        \n",
    "l = [\n",
    "    Dog(\"Medor\"),\n",
    "    Cat(\"Latie\"),\n",
    "    Student(\"Kevin\")\n",
    "]\n",
    "\n",
    "for x in l:\n",
    "    x.say_hello()"
   ]
  },
  {
   "cell_type": "code",
   "execution_count": 2,
   "id": "15575cb5",
   "metadata": {},
   "outputs": [
    {
     "name": "stdout",
     "output_type": "stream",
     "text": [
      "Waf je suis Medor\n",
      "Miaou je suis Latie\n",
      "Bonjour je suis James Bond\n",
      "Waf je suis Relou\n",
      "grrrrr bao bao bao\n",
      "False\n",
      "False\n",
      "True\n",
      "False\n"
     ]
    },
    {
     "data": {
      "text/plain": [
       "True"
      ]
     },
     "execution_count": 2,
     "metadata": {},
     "output_type": "execute_result"
    }
   ],
   "source": [
    "class Animal:\n",
    "    def __init__(self,name):\n",
    "        self.name = name\n",
    "        \n",
    "    def is_good_at_math(self):\n",
    "        return False\n",
    "    \n",
    "class Dog(Animal):\n",
    "        \n",
    "    def say_hello(self):\n",
    "        print(f\"Waf je suis {self.name}\")\n",
    "        \n",
    "class Cat(Animal):\n",
    "    \n",
    "    def say_hello(self):\n",
    "        print(f\"Miaou je suis {self.name}\")\n",
    "\n",
    "class Student(Animal):\n",
    "    \n",
    "    @staticmethod\n",
    "    def new_smith(first_name):\n",
    "        return Student(\"Smith, {first_name}\")\n",
    "    \n",
    "    def __init__(self,name,first_name):\n",
    "        super().__init__(name)\n",
    "        self.first_name = first_name\n",
    "    \n",
    "    def say_hello(self):\n",
    "        print(f\"Bonjour je suis {self.first_name} {self.name}\")\n",
    "        \n",
    "    def is_good_at_math(self):\n",
    "        return True\n",
    "\n",
    "class Caniche(Dog):\n",
    "    def say_hello(self):\n",
    "        super().say_hello()\n",
    "        print(\"grrrrr bao bao bao\")\n",
    "    \n",
    "l = [\n",
    "    Dog(\"Medor\"),\n",
    "    Cat(\"Latie\"),\n",
    "    Student(\"Bond\",\"James\"),\n",
    "    Caniche(\"Relou\")\n",
    "]\n",
    "\n",
    "for x in l:\n",
    "    x.say_hello()\n",
    "    \n",
    "for x in l:\n",
    "    print(x.is_good_at_math())\n",
    "    \n",
    "d=Dog(\"Medor\")\n",
    "isinstance(d,Animal)\n",
    "    \n",
    "    "
   ]
  },
  {
   "cell_type": "code",
   "execution_count": null,
   "id": "945155a3",
   "metadata": {},
   "outputs": [],
   "source": [
    "    def __iter__(self):\n",
    "        r\"\"\"Iterate the cells of the notebook.\n",
    "\n",
    "        Usage:\n",
    "\n",
    "            >>> nb = Notebook.from_file(\"samples/hello-world.ipynb\")\n",
    "            >>> for cell in nb:\n",
    "            ...     print(cell.id)\n",
    "            a9541506\n",
    "            b777420a\n",
    "            a23ab5ac\n",
    "        \"\"\"\n",
    "        \n",
    "        return self\n",
    "        \n",
    "    def __next__(self):\n",
    "        if self.index>len(self.cells)-1:\n",
    "             raise StopIteration\n",
    "        self.index = self.index + 1\n",
    "        return self.cells[self.index]"
   ]
  },
  {
   "cell_type": "code",
   "execution_count": null,
   "id": "0a1f42c1",
   "metadata": {},
   "outputs": [],
   "source": []
  }
 ],
 "metadata": {
  "kernelspec": {
   "display_name": "Python 3 (ipykernel)",
   "language": "python",
   "name": "python3"
  },
  "language_info": {
   "codemirror_mode": {
    "name": "ipython",
    "version": 3
   },
   "file_extension": ".py",
   "mimetype": "text/x-python",
   "name": "python",
   "nbconvert_exporter": "python",
   "pygments_lexer": "ipython3",
   "version": "3.9.7"
  }
 },
 "nbformat": 4,
 "nbformat_minor": 5
}
