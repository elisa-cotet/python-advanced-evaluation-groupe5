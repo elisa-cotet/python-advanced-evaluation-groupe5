{
 "cells": [
  {
   "cell_type": "code",
   "execution_count": 1,
   "metadata": {},
   "outputs": [
    {
     "name": "stdout",
     "output_type": "stream",
     "text": [
      "👋 Hello world! 🌍\n"
     ]
    }
   ],
   "source": [
    "print(\"👋 Hello world! 🌍\")"
   ]
  },
  {
   "cell_type": "code",
   "execution_count": 2,
   "metadata": {},
   "outputs": [
    {
     "name": "stderr",
     "output_type": "stream",
     "text": [
      "🔥 This is fine. 🔥 (https://gunshowcomic.com/648)\n"
     ]
    }
   ],
   "source": [
    "import sys\n",
    "print(\"🔥 This is fine. 🔥 (https://gunshowcomic.com/648)\", file=sys.stderr)"
   ]
  }
 ],
 "metadata": {},
 "nbformat": 4,
 "nbformat_minor": 2
}
