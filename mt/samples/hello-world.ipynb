{
 "cells": [
  {
   "cell_type": "markdown",
   "id": "a9541506",
   "metadata": {},
   "source": [
    "Hello world!\n",
    "============\n",
    "Print `Hello world!`:"
   ]
  },
  {
   "cell_type": "code",
   "execution_count": 1,
   "id": "b777420a",
   "metadata": {},
   "outputs": [
    {
     "name": "stdout",
     "output_type": "stream",
     "text": [
      "Hello world!\n"
     ]
    }
   ],
   "source": [
    "print(\"Hello world!\")"
   ]
  },
  {
   "cell_type": "markdown",
   "id": "a23ab5ac",
   "metadata": {},
   "source": [
    "Goodbye! 👋"
   ]
  }
 ],
 "metadata": {},
 "nbformat": 4,
 "nbformat_minor": 5
}
