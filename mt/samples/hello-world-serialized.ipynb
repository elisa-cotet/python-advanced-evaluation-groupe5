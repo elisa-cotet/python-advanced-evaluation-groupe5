{
  "metadata": {},
  "nbformat": 4,
  "nbformat_minor": 5,
  "cells": [
    {
      "cell_type": "markdown",
      "id": "a9541506",
      "medatada": {},
      "source": [
        "Hello world!\n",
        "============\n",
        "Print `Hello world!`:"
      ]
    },
    {
      "cell_type": "code",
      "id": "b777420a",
      "medatada": {},
      "source": [
        "print(\"Hello world!\")"
      ],
      "execution_count": 1,
      "outputs": []
    },
    {
      "cell_type": "markdown",
      "id": "a23ab5ac",
      "medatada": {},
      "source": [
        "Goodbye! \ud83d\udc4b"
      ]
    }
  ]
}